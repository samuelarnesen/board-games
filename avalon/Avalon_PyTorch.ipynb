{
 "cells": [
  {
   "cell_type": "code",
   "execution_count": 37,
   "metadata": {},
   "outputs": [],
   "source": [
    "import numpy as np\n",
    "import pandas as pd\n",
    "\n",
    "import torch\n",
    "import torch.nn as nn\n",
    "import torch.optim as optim\n",
    "\n",
    "from copy import deepcopy\n",
    "import random\n",
    "import pickle"
   ]
  },
  {
   "cell_type": "code",
   "execution_count": 14,
   "metadata": {},
   "outputs": [],
   "source": [
    "initial_map = {\n",
    "    \"S\": \"Sam\",\n",
    "    \"T\": \"Tejal\",\n",
    "    \"Wa\": \"WillA\",\n",
    "    \"Wc\": \"WillC\",\n",
    "    \"Os\": \"Osmond\",\n",
    "    \"N\": \"Nathan\",\n",
    "    \"C\": \"Chris\",\n",
    "    \"M\": \"Matt\",\n",
    "    \"H\": \"Harrison\",\n",
    "    \"J\": \"Jenny\",\n",
    "    \"Ld\": \"Lorenzod\",\n",
    "    \"Lf\": \"LorenzoF\",\n",
    "    \"Sh\": \"Shruti\",\n",
    "    \"Sy\": \"Shreyas\",\n",
    "    \"X\": \"Xavier\",\n",
    "    \"Oz\": \"Ozan\"\n",
    "}\n",
    "\n",
    "name_to_id = {}\n",
    "for i, initial in enumerate(initial_map):\n",
    "    name_to_id[initial_map[initial]] = i\n",
    "\n",
    "roles = [\"Percival\", \"Morgana\", \"Merlin\", \"Generic Good\", \"Generic Evil\"]"
   ]
  },
  {
   "cell_type": "code",
   "execution_count": 5,
   "metadata": {},
   "outputs": [],
   "source": [
    "log = pd.read_csv(\"Avalon_Results.csv\")"
   ]
  },
  {
   "cell_type": "code",
   "execution_count": 34,
   "metadata": {},
   "outputs": [],
   "source": [
    "data = []\n",
    "labels = []\n",
    "current_game_number = 0\n",
    "current_game = {}\n",
    "for role in roles:\n",
    "    current_game[role] = np.zeros(len(initial_map))\n",
    "result = -1\n",
    "current_game_number = 0\n",
    "started_logging = True\n",
    "for row_num in range(len(log)):\n",
    "    \n",
    "    row = log.iloc[row_num]\n",
    "    \n",
    "    if row[\"#\"] != 7:\n",
    "        continue\n",
    "    \n",
    "    if int(row[\"Game#\"]) != current_game_number:\n",
    "        if started_logging:\n",
    "            labels.append(result)\n",
    "            data.append(deepcopy(current_game))\n",
    "        for role in roles:\n",
    "            current_game[role] = np.zeros(len(initial_map))\n",
    "        result = 0\n",
    "        current_game_number = int(row[\"Game#\"])\n",
    "        started_logging = False\n",
    "    \n",
    "    person = row[\"Person\"]\n",
    "    merlin = initial_map[row[\"Merlin\"]]\n",
    "    percival = initial_map[row[\"Percival\"]]\n",
    "    morgana = initial_map[row[\"Morgana\"]]\n",
    "    result = 1 if row[\"Winner\"] == \"good\" else 0\n",
    "    \n",
    "    if person == morgana:\n",
    "        current_game[\"Morgana\"][name_to_id[person]] = 1\n",
    "    elif row[\"Side\"] == \"Evil\":\n",
    "        current_game[\"Generic Evil\"][name_to_id[person]] = 1\n",
    "    elif person == merlin:\n",
    "        current_game[\"Merlin\"][name_to_id[person]] = 1\n",
    "    elif person == percival:\n",
    "        current_game[\"Percival\"][name_to_id[person]] = 1\n",
    "    else:\n",
    "        current_game[\"Generic Good\"][name_to_id[person]] = 1\n",
    "    started_logging = True\n",
    "        "
   ]
  },
  {
   "cell_type": "code",
   "execution_count": 35,
   "metadata": {},
   "outputs": [],
   "source": [
    "with open(\"dataset.p\", \"wb\") as f:\n",
    "    pickle.dump(data, f)"
   ]
  },
  {
   "cell_type": "code",
   "execution_count": 137,
   "metadata": {},
   "outputs": [],
   "source": [
    "# THE MODEL\n",
    "class AvalonModel(nn.Module):\n",
    "    \n",
    "    def __init__(self):\n",
    "        \n",
    "        # initializes nn.Module\n",
    "        super().__init__() \n",
    "        num_players = len(name_to_id)\n",
    "        \n",
    "        self.overall_scores = nn.Parameter(torch.zeros([num_players], dtype=torch.float).requires_grad_())\n",
    "        self.merlin_adjustments = nn.Parameter(torch.zeros([num_players], dtype=torch.float).requires_grad_())\n",
    "        self.morgana_adjustments = nn.Parameter(torch.zeros([num_players], dtype=torch.float).requires_grad_())\n",
    "        self.percival_adjustments = nn.Parameter(torch.zeros([num_players], dtype=torch.float).requires_grad_())\n",
    "        self.bad_adjustments = nn.Parameter(torch.zeros([num_players], dtype=torch.float).requires_grad_())\n",
    "        \n",
    "        # final layer\n",
    "        self.softmax = nn.Softmax(dim=0)\n",
    "        \n",
    "            \n",
    "    def forward(self, batch):\n",
    "        \n",
    "        #----------------------CREATE INPUT VECTORS ----------------------#\n",
    "        \n",
    "        # create a tensor that has 1s for the bad guy ids and 0s for good guys\n",
    "        bad_guys_one_hot = torch.tensor([example[\"Generic Evil\"] + example[\"Morgana\"] for example in batch], dtype=torch.float)\n",
    "        \n",
    "        # create a tensor that has 1s for the good guy ids and 0s for bad guys\n",
    "        good_guys_one_hot = torch.tensor([example[\"Generic Good\"] + example[\"Merlin\"] + example[\"Percival\"] for example in batch], dtype=torch.float)\n",
    "        \n",
    "        # create a tensor that has 1s for merlin and 0s for everyone else\n",
    "        merlin_one_hot = torch.tensor([example[\"Merlin\"] for example in batch], dtype=torch.float)\n",
    "\n",
    "        # create a tensor that has 1s for percival and 0s for everyone else\n",
    "        percival_one_hot = torch.tensor([example[\"Percival\"] for example in batch], dtype=torch.float)\n",
    "\n",
    "        # create a tensor that has 1s for morgana and 0s for everyone else\n",
    "        morgana_one_hot = torch.tensor([example[\"Morgana\"] for example in batch], dtype=torch.float)\n",
    "\n",
    "        #----------------------MAKE SCORE ADJUSTMENTS----------------------#\n",
    "        \n",
    "        current_scores = self.overall_scores\n",
    "        \n",
    "        # update with the bad guy adjustments\n",
    "        current_scores_1 = current_scores + (bad_guys_one_hot * self.bad_adjustments.unsqueeze(0))\n",
    "        \n",
    "        # update with the merlin adjustment\n",
    "        current_scores_2 = current_scores_1 + (merlin_one_hot * self.merlin_adjustments.unsqueeze(0))\n",
    "\n",
    "        # update with the percival adjustment\n",
    "        current_scores_3 = current_scores_2 + (percival_one_hot * self.percival_adjustments.unsqueeze(0))\n",
    "\n",
    "        # update with the morgana adjustment\n",
    "        current_scores_4 = current_scores_3 + (morgana_one_hot * self.morgana_adjustments.unsqueeze(0))\n",
    "\n",
    "        \n",
    "        #----------------------CALCULATE PROBABILITIES----------------------#\n",
    "        \n",
    "        # find bad guy total scores and adjust for game size\n",
    "        bad_guy_total_score = torch.sum((bad_guys_one_hot * current_scores_4), dim=1) / 3\n",
    "        \n",
    "        # find good guy total scores\n",
    "        good_guy_total_score = torch.sum((good_guys_one_hot * current_scores_4), dim=1) / 4\n",
    "        \n",
    "        # find overall probability of winning -- index 0 is odds a good guy wins, index 1 is odds a bad guy wins\n",
    "        final_scores = torch.stack([good_guy_total_score, bad_guy_total_score])\n",
    "        probs = self.softmax(final_scores)\n",
    "        \n",
    "        return probs"
   ]
  },
  {
   "cell_type": "code",
   "execution_count": 417,
   "metadata": {},
   "outputs": [],
   "source": [
    "baseline_reg_penalty = 0\n",
    "bad_guy_reg_penalty = 0.01\n",
    "merlin_reg_penalty = 0.01\n",
    "percival_reg_penalty = 0.025\n",
    "morgana_reg_penalty = 0.025"
   ]
  },
  {
   "cell_type": "code",
   "execution_count": 418,
   "metadata": {},
   "outputs": [],
   "source": [
    "# DECLARE INSTANCE OF MODEL\n",
    "model = AvalonModel()\n",
    "\n",
    "# DECLARE OPTIMIZING VARIABLES\n",
    "agent_optimizer = optim.AdamW(model.parameters(), lr=10e-5) # change the learning rate if you'd like\n",
    "criterion = nn.MSELoss() # this doesn't include the regularization terms yet"
   ]
  },
  {
   "cell_type": "code",
   "execution_count": 419,
   "metadata": {},
   "outputs": [],
   "source": [
    "validation_set_nums = random.sample(range(len(data)), k=32)\n",
    "train_set_nums = [num for num in filter(lambda x: x not in validation_set_nums, range(len(data)))]"
   ]
  },
  {
   "cell_type": "code",
   "execution_count": 420,
   "metadata": {},
   "outputs": [],
   "source": [
    "validate = False\n",
    "check_in_time = 100\n",
    "previous_loss = 1\n",
    "loss_counts = 0\n",
    "for i in range(10000):\n",
    "    \n",
    "    if validate:\n",
    "        if i % check_in_time == 0:\n",
    "            batch = [data[id_num] for id_num in validation_set_nums]\n",
    "            batch_labels = torch.tensor([labels[id_num] for id_num in validation_set_nums], dtype=torch.float)\n",
    "            with torch.no_grad():\n",
    "                prediction = model(batch)\n",
    "                loss = criterion(prediction[0, :], batch_labels)\n",
    "            print(loss.item())\n",
    "            loss_counts = (loss_counts + 1) if loss.item() > previous_loss else 0\n",
    "            previous_loss = loss.item()\n",
    "            if loss_counts >= 3:\n",
    "                print(\"Run for {} iterations\".format(i))\n",
    "                break\n",
    "        \n",
    "    game_ids = random.sample(range(len(data)) if not validate else train_set_nums, k=64)\n",
    "    batch = [data[id_num] for id_num in game_ids]\n",
    "    batch_labels = torch.tensor([labels[id_num] for id_num in game_ids], dtype=torch.float)\n",
    "\n",
    "    # feed the game into your model and get the predictions\n",
    "    prediction = model(batch)\n",
    "\n",
    "    #print(model.percival_adjustments.tensor)\n",
    "\n",
    "    # calculate loss\n",
    "    loss = criterion(prediction[0, :], batch_labels) + \\\n",
    "        (torch.norm(model.overall_scores) * baseline_reg_penalty) + \\\n",
    "        (torch.norm(model.bad_adjustments) * bad_guy_reg_penalty) + \\\n",
    "        (torch.norm(model.merlin_adjustments) * merlin_reg_penalty) + \\\n",
    "        (torch.norm(model.percival_adjustments) * percival_reg_penalty) + \\\n",
    "        (torch.norm(model.morgana_adjustments) * morgana_reg_penalty)\n",
    "\n",
    "    # update\n",
    "    loss.backward()\n",
    "    agent_optimizer.step()\n",
    "    agent_optimizer.zero_grad()"
   ]
  },
  {
   "cell_type": "code",
   "execution_count": 468,
   "metadata": {},
   "outputs": [],
   "source": [
    "main_players = [\"Sam\", \"WillA\", \"Tejal\", \"Matt\", \"Shruti\", \"Harrison\", \"Ozan\", \"LorenzoF\", \"Shreyas\", \"Xavier\"]\n",
    "results = {}\n",
    "split_results = {}\n",
    "overall_results = [0, 0]\n",
    "for player in main_players:\n",
    "    results[player] = [0, 0]\n",
    "    split_results[player] = {}\n",
    "    for role in roles:\n",
    "        split_results[player][role] = [0, 0]"
   ]
  },
  {
   "cell_type": "code",
   "execution_count": 469,
   "metadata": {},
   "outputs": [],
   "source": [
    "num_games = 100000\n",
    "best_good_odds = 0\n",
    "worst_good_odds = 1\n",
    "best_good_lineup = {}\n",
    "worst_good_lineup = {}\n",
    "for game_num in range(num_games):\n",
    "    players_this_game = random.sample(main_players, k=7)\n",
    "    current_game = {}\n",
    "    current_game_in_words = {}\n",
    "    for role in roles:\n",
    "        current_game[role] = np.zeros(len(initial_map))\n",
    "    for i, player in enumerate(players_this_game):\n",
    "        if i == 0:\n",
    "            current_game[\"Merlin\"][name_to_id[player]] = 1\n",
    "            current_game_in_words[player] = \"Merlin\"\n",
    "        if i == 1:\n",
    "            current_game[\"Percival\"][name_to_id[player]] = 1\n",
    "            current_game_in_words[player] = \"Percival\"\n",
    "        if i in [2, 3]:\n",
    "            current_game[\"Generic Good\"][name_to_id[player]] = 1\n",
    "            current_game_in_words[player] = \"Generic Good\"\n",
    "        if i in [4, 5]:\n",
    "            current_game[\"Generic Evil\"][name_to_id[player]] = 1\n",
    "            current_game_in_words[player] = \"Generic Evil\"\n",
    "        if i == 6:\n",
    "            current_game[\"Morgana\"][name_to_id[player]] = 1\n",
    "            current_game_in_words[player] = \"Morgana\"\n",
    "    \n",
    "    with torch.no_grad():\n",
    "        good_odds, _ = model([current_game])\n",
    "\n",
    "    random_num = random.random()\n",
    "    for i, player in enumerate(players_this_game):\n",
    "        overall_results[0 if random_num < good_odds.item() else 1] += 1\n",
    "        if i < 4:\n",
    "            results[player][0 if random_num < good_odds.item() else 1] += 1\n",
    "            split_results[player][current_game_in_words[player]][0 if random_num < good_odds.item() else 1] += 1\n",
    "        else:\n",
    "            results[player][1 if random_num < good_odds.item() else 0] += 1\n",
    "            split_results[player][current_game_in_words[player]][1 if random_num < good_odds.item() else 0] += 1\n",
    "    \n",
    "    if good_odds.item() > best_good_odds:\n",
    "        best_good_odds = good_odds.item()\n",
    "        best_good_lineup = current_game_in_words\n",
    "    if good_odds.item() < worst_good_odds:\n",
    "        worst_good_odds = good_odds.item()\n",
    "        worst_good_lineup = current_game_in_words"
   ]
  },
  {
   "cell_type": "code",
   "execution_count": 470,
   "metadata": {},
   "outputs": [
    {
     "name": "stdout",
     "output_type": "stream",
     "text": [
      "Sam: 37670-32172\n",
      "WillA: 32691-37288\n",
      "Tejal: 37830-32220\n",
      "Matt: 37441-32741\n",
      "Shruti: 36717-33338\n",
      "Harrison: 31728-38304\n",
      "Ozan: 38160-31825\n",
      "LorenzoF: 32807-37275\n",
      "Shreyas: 32721-37186\n",
      "Xavier: 32276-37610\n"
     ]
    }
   ],
   "source": [
    "for player in results:\n",
    "    print(\"{}: {}-{}\".format(player, results[player][0], results[player][1]))"
   ]
  },
  {
   "cell_type": "code",
   "execution_count": 471,
   "metadata": {},
   "outputs": [
    {
     "name": "stdout",
     "output_type": "stream",
     "text": [
      "Overall\n",
      "1. Ozan: 54.5%\n",
      "2. Tejal: 54.0%\n",
      "3. Sam: 53.9%\n",
      "4. Matt: 53.3%\n",
      "5. Shruti: 52.4%\n",
      "6. LorenzoF: 46.8%\n",
      "7. Shreyas: 46.8%\n",
      "8. WillA: 46.7%\n",
      "9. Xavier: 46.2%\n",
      "10. Harrison: 45.3%\n"
     ]
    }
   ],
   "source": [
    "print(\"Overall\")\n",
    "sorted_players = sorted([player for player in results], key=lambda player: results[player][0] * 100 / (results[player][0] + results[player][1]), reverse=True)\n",
    "for i, player in enumerate(sorted_players):\n",
    "    print(\"{}. {}: {}%\".format(i + 1, player, round(results[player][0] * 100 / (results[player][0] + results[player][1]), 1)))\n"
   ]
  },
  {
   "cell_type": "code",
   "execution_count": 479,
   "metadata": {},
   "outputs": [
    {
     "name": "stdout",
     "output_type": "stream",
     "text": [
      "Merlin\n",
      "1. Ozan: 54.2%\n",
      "2. Tejal: 53.7%\n",
      "3. Sam: 53.5%\n",
      "4. Matt: 53.1%\n",
      "5. Shruti: 51.4%\n",
      "6. Shreyas: 47.6%\n",
      "7. LorenzoF: 47.3%\n",
      "8. WillA: 47.0%\n",
      "9. Xavier: 46.6%\n",
      "10. Harrison: 45.9%\n"
     ]
    }
   ],
   "source": [
    "role = \"Merlin\"\n",
    "print(role)\n",
    "sorted_players = sorted([player for player in results], key=lambda player: split_results[player][role][0] * 100 / (split_results[player][role][0] + split_results[player][role][1]), reverse=True)\n",
    "for i, player in enumerate(sorted_players):\n",
    "    print(\"{}. {}: {}%\".format(i + 1, player, round(split_results[player][role][0] * 100 / (split_results[player][role][0] + split_results[player][role][1]), 1)))\n",
    "    "
   ]
  },
  {
   "cell_type": "code",
   "execution_count": 480,
   "metadata": {},
   "outputs": [
    {
     "name": "stdout",
     "output_type": "stream",
     "text": [
      "Percival\n",
      "1. Tejal: 53.9%\n",
      "2. Sam: 53.5%\n",
      "3. Ozan: 53.5%\n",
      "4. Matt: 52.3%\n",
      "5. Shruti: 51.6%\n",
      "6. LorenzoF: 48.0%\n",
      "7. WillA: 48.0%\n",
      "8. Shreyas: 47.1%\n",
      "9. Xavier: 46.3%\n",
      "10. Harrison: 46.0%\n"
     ]
    }
   ],
   "source": [
    "role = \"Percival\"\n",
    "print(role)\n",
    "sorted_players = sorted([player for player in results], key=lambda player: split_results[player][role][0] * 100 / (split_results[player][role][0] + split_results[player][role][1]), reverse=True)\n",
    "for i, player in enumerate(sorted_players):\n",
    "    print(\"{}. {}: {}%\".format(i + 1, player, round(split_results[player][role][0] * 100 / (split_results[player][role][0] + split_results[player][role][1]), 1)))\n",
    "    "
   ]
  },
  {
   "cell_type": "code",
   "execution_count": 484,
   "metadata": {},
   "outputs": [
    {
     "name": "stdout",
     "output_type": "stream",
     "text": [
      "Morgana\n",
      "1. Ozan: 55.5%\n",
      "2. Sam: 54.3%\n",
      "3. Tejal: 54.2%\n",
      "4. Matt: 54.2%\n",
      "5. Shruti: 52.3%\n",
      "6. LorenzoF: 46.5%\n",
      "7. Shreyas: 46.2%\n",
      "8. Xavier: 45.8%\n",
      "9. WillA: 45.6%\n",
      "10. Harrison: 44.9%\n"
     ]
    }
   ],
   "source": [
    "role = \"Morgana\"\n",
    "print(role)\n",
    "sorted_players = sorted([player for player in results], key=lambda player: split_results[player][role][0] * 100 / (split_results[player][role][0] + split_results[player][role][1]), reverse=True)\n",
    "for i, player in enumerate(sorted_players):\n",
    "    print(\"{}. {}: {}%\".format(i + 1, player, round(split_results[player][role][0] * 100 / (split_results[player][role][0] + split_results[player][role][1]), 1)))\n",
    "    "
   ]
  },
  {
   "cell_type": "code",
   "execution_count": 482,
   "metadata": {},
   "outputs": [
    {
     "name": "stdout",
     "output_type": "stream",
     "text": [
      "Generic Good\n",
      "1. Ozan: 54.2%\n",
      "2. Sam: 53.8%\n",
      "3. Tejal: 53.4%\n",
      "4. Matt: 53.0%\n",
      "5. Shruti: 52.6%\n",
      "6. WillA: 47.0%\n",
      "7. Shreyas: 47.0%\n",
      "8. LorenzoF: 46.9%\n",
      "9. Xavier: 46.8%\n",
      "10. Harrison: 45.7%\n"
     ]
    }
   ],
   "source": [
    "role = \"Generic Good\"\n",
    "print(role)\n",
    "sorted_players = sorted([player for player in results], key=lambda player: split_results[player][role][0] * 100 / (split_results[player][role][0] + split_results[player][role][1]), reverse=True)\n",
    "for i, player in enumerate(sorted_players):\n",
    "    print(\"{}. {}: {}%\".format(i + 1, player, round(split_results[player][role][0] * 100 / (split_results[player][role][0] + split_results[player][role][1]), 1)))\n",
    "    "
   ]
  },
  {
   "cell_type": "code",
   "execution_count": 483,
   "metadata": {},
   "outputs": [
    {
     "name": "stdout",
     "output_type": "stream",
     "text": [
      "Generic Evil\n",
      "1. Ozan: 55.0%\n",
      "2. Tejal: 54.7%\n",
      "3. Sam: 54.3%\n",
      "4. Matt: 53.9%\n",
      "5. Shruti: 53.1%\n",
      "6. Shreyas: 46.4%\n",
      "7. WillA: 46.2%\n",
      "8. LorenzoF: 46.0%\n",
      "9. Xavier: 45.4%\n",
      "10. Harrison: 44.4%\n"
     ]
    }
   ],
   "source": [
    "role = \"Generic Evil\"\n",
    "print(role)\n",
    "sorted_players = sorted([player for player in results], key=lambda player: split_results[player][role][0] * 100 / (split_results[player][role][0] + split_results[player][role][1]), reverse=True)\n",
    "for i, player in enumerate(sorted_players):\n",
    "    print(\"{}. {}: {}%\".format(i + 1, player, round(split_results[player][role][0] * 100 / (split_results[player][role][0] + split_results[player][role][1]), 1)))\n",
    "    "
   ]
  },
  {
   "cell_type": "code",
   "execution_count": 477,
   "metadata": {},
   "outputs": [
    {
     "name": "stdout",
     "output_type": "stream",
     "text": [
      "Overall\n",
      "Good wins 50.04% of the time\n"
     ]
    }
   ],
   "source": [
    "print(\"Overall\")\n",
    "print(\"Good wins {}% of the time\".format(round(overall_results[0] * 100 / (overall_results[0] + overall_results[1]),2)))\n"
   ]
  },
  {
   "cell_type": "code",
   "execution_count": 478,
   "metadata": {},
   "outputs": [
    {
     "name": "stdout",
     "output_type": "stream",
     "text": [
      "Best lineup for good\n",
      "Odds of good winning are 74%\n",
      "Tejal: Merlin\n",
      "Sam: Percival\n",
      "Ozan: Generic Good\n",
      "Matt: Generic Good\n",
      "Shreyas: Generic Evil\n",
      "Xavier: Generic Evil\n",
      "Harrison: Morgana\n",
      "\n",
      "Best lineup for evil\n",
      "Odds of evil winning are 74%\n",
      "WillA: Merlin\n",
      "Harrison: Percival\n",
      "Shreyas: Generic Good\n",
      "Xavier: Generic Good\n",
      "Ozan: Generic Evil\n",
      "Tejal: Generic Evil\n",
      "Sam: Morgana\n"
     ]
    }
   ],
   "source": [
    "print(\"Best lineup for good\")\n",
    "print(\"Odds of good winning are {}%\".format(round(best_good_odds * 100)))\n",
    "for role in best_good_lineup:\n",
    "    print(\"{}: {}\".format(role, best_good_lineup[role]))\n",
    "print()\n",
    "print(\"Best lineup for evil\")\n",
    "print(\"Odds of evil winning are {}%\".format(round((1 - worst_good_odds) * 100)))\n",
    "for role in worst_good_lineup:\n",
    "    print(\"{}: {}\".format(role, worst_good_lineup[role]))"
   ]
  },
  {
   "cell_type": "code",
   "execution_count": 485,
   "metadata": {},
   "outputs": [
    {
     "data": {
      "text/plain": [
       "Parameter containing:\n",
       "tensor([-1.3990e-05,  7.7936e-06, -8.0841e-06,  0.0000e+00, -1.4650e-05,\n",
       "         3.5414e-06,  0.0000e+00, -1.9425e-05, -2.9500e-06,  9.0133e-07,\n",
       "         0.0000e+00, -1.3078e-05,  1.2378e-05, -2.0031e-05,  1.8319e-05,\n",
       "        -3.3360e-06], requires_grad=True)"
      ]
     },
     "execution_count": 485,
     "metadata": {},
     "output_type": "execute_result"
    }
   ],
   "source": [
    "model.merlin_adjustments"
   ]
  },
  {
   "cell_type": "code",
   "execution_count": 486,
   "metadata": {},
   "outputs": [
    {
     "data": {
      "text/plain": [
       "Parameter containing:\n",
       "tensor([ 0.5246,  0.5680, -0.4066, -0.6460, -0.8593, -0.3879,  0.0000,  0.4932,\n",
       "        -0.5770, -0.1518, -0.6510, -0.3529,  0.2990, -0.4113, -0.4377,  0.6105],\n",
       "       requires_grad=True)"
      ]
     },
     "execution_count": 486,
     "metadata": {},
     "output_type": "execute_result"
    }
   ],
   "source": [
    "model.overall_scores"
   ]
  },
  {
   "cell_type": "code",
   "execution_count": null,
   "metadata": {},
   "outputs": [],
   "source": []
  }
 ],
 "metadata": {
  "kernelspec": {
   "display_name": "Python 3",
   "language": "python",
   "name": "python3"
  },
  "language_info": {
   "codemirror_mode": {
    "name": "ipython",
    "version": 3
   },
   "file_extension": ".py",
   "mimetype": "text/x-python",
   "name": "python",
   "nbconvert_exporter": "python",
   "pygments_lexer": "ipython3",
   "version": "3.6.5"
  }
 },
 "nbformat": 4,
 "nbformat_minor": 4
}
